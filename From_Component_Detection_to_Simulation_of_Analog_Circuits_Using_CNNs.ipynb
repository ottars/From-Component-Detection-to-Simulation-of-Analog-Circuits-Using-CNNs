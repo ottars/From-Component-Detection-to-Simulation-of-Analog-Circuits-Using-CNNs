{
  "cells": [
    {
      "cell_type": "markdown",
      "metadata": {
        "id": "KP4rg2AoWkcp"
      },
      "source": [
        "**Detecting discrete electronic components with CNN**"
      ]
    },
    {
      "cell_type": "markdown",
      "metadata": {
        "id": "h0r4fA3-4_pO"
      },
      "source": [
        "This project is essentially in two parts. The first part is training a model to classify 64x64 images of components. We have 15 different components to classify, and the model outputs the probabilities of each class. \n",
        "\n",
        "The second part of the code is implementing Sliding Windows to detect components in a circuit, using the previously trained CNN."
      ]
    },
    {
      "cell_type": "code",
      "execution_count": 42,
      "metadata": {
        "colab": {
          "base_uri": "https://localhost:8080/"
        },
        "id": "EGxSH3prt7n4",
        "outputId": "76adf2d4-92a5-4b65-dc7e-93d2b926c129"
      },
      "outputs": [
        {
          "output_type": "stream",
          "name": "stdout",
          "text": [
            "Drive already mounted at /content/drive; to attempt to forcibly remount, call drive.mount(\"/content/drive\", force_remount=True).\n"
          ]
        }
      ],
      "source": [
        "#Import all packages and mount Google Drive to load data \n",
        "import numpy as np\n",
        "import tensorflow as tf\n",
        "from tensorflow import keras\n",
        "from keras.utils import to_categorical\n",
        "from keras import layers, models\n",
        "from os import listdir\n",
        "from os.path import isfile, join\n",
        "import cv2\n",
        "import matplotlib.pyplot as plt\n",
        "from skimage.transform import resize\n",
        "import imutils\n",
        "from sklearn.utils import shuffle\n",
        "import matplotlib.patches as patches\n",
        "from sklearn.metrics import classification_report\n",
        "\n",
        "from google.colab import drive\n",
        "drive.mount('/content/drive')"
      ]
    },
    {
      "cell_type": "code",
      "execution_count": 43,
      "metadata": {
        "id": "y8vZkB-2umji"
      },
      "outputs": [],
      "source": [
        "#Import each class from Drive and invert (dataset is inverted so this makes the background white and components black)\n",
        "#These are 15 classes of components and we have to label them\n",
        "\n",
        "resistors_data='/content/drive/MyDrive/CS230 final project/components/resistors_as_png'\n",
        "onlyfiles = [ f for f in listdir(resistors_data) if isfile(join(resistors_data,f)) ]\n",
        "resistors = np.empty(len(onlyfiles), dtype=object)\n",
        "for n in range(0, len(onlyfiles)):\n",
        "  resistors[n] = cv2.imread( join(resistors_data,onlyfiles[n]) )\n",
        "\n",
        "resistors = np.array(resistors)\n",
        "resistors = np.invert(resistors)\n",
        "res = np.zeros((len(resistors),120,120,3))\n",
        "for i in range(len(resistors)):\n",
        "  res[i,:,:,:] = resistors[i]\n",
        "\n",
        "voltmeter_data='/content/drive/MyDrive/CS230 final project/components/voltmeter_as_png'\n",
        "onlyfiles = [ f for f in listdir(voltmeter_data) if isfile(join(voltmeter_data,f)) ]\n",
        "voltmeters = np.empty(len(onlyfiles), dtype=object)\n",
        "for n in range(0, len(onlyfiles)):\n",
        "  voltmeters[n] = cv2.imread( join(voltmeter_data,onlyfiles[n]) )\n",
        "\n",
        "voltmeters = np.array(voltmeters)\n",
        "voltmeters = np.invert(voltmeters)\n",
        "voltm = np.zeros((len(voltmeters),120,120,3))\n",
        "for i in range(len(voltmeters)):\n",
        "  voltm[i,:,:,:] = voltmeters[i]\n",
        "\n",
        "inductor_data='/content/drive/MyDrive/CS230 final project/components/inductors_as_png'\n",
        "onlyfiles = [ f for f in listdir(inductor_data) if isfile(join(inductor_data,f)) ]\n",
        "inductors = np.empty(len(onlyfiles), dtype=object)\n",
        "for n in range(0, len(onlyfiles)):\n",
        "  inductors[n] = cv2.imread( join(inductor_data,onlyfiles[n]) )\n",
        "\n",
        "inductors = np.array(inductors)\n",
        "inductors = np.invert(inductors)\n",
        "ind = np.zeros((len(inductors),120,120,3))\n",
        "for i in range(len(inductors)):\n",
        "  ind[i,:,:,:] = inductors[i]\n",
        "\n",
        "ground2_data='/content/drive/MyDrive/CS230 final project/components/gnd2_as_png'\n",
        "onlyfiles = [ f for f in listdir(ground2_data) if isfile(join(ground2_data,f)) ]\n",
        "ground2 = np.empty(len(onlyfiles), dtype=object)\n",
        "for n in range(0, len(onlyfiles)):\n",
        "  ground2[n] = cv2.imread( join(ground2_data,onlyfiles[n]) )\n",
        "\n",
        "ground2 = np.array(ground2)\n",
        "ground2 = np.invert(ground2)\n",
        "gnd2 = np.zeros((len(ground2),120,120,3))\n",
        "for i in range(len(ground2)):\n",
        "  gnd2[i,:,:,:] = ground2[i]\n",
        "\n",
        "ground1_data='/content/drive/MyDrive/CS230 final project/components/gn1_as_png'\n",
        "onlyfiles = [ f for f in listdir(ground1_data) if isfile(join(ground1_data,f)) ]\n",
        "ground1 = np.empty(len(onlyfiles), dtype=object)\n",
        "for n in range(0, len(onlyfiles)):\n",
        "  ground1[n] = cv2.imread( join(ground1_data,onlyfiles[n]) )\n",
        "\n",
        "ground1 = np.array(ground1)\n",
        "ground1 = np.invert(ground1)\n",
        "gnd1 = np.zeros((len(ground1),120,120,3))\n",
        "for i in range(len(ground1)):\n",
        "  gnd1[i,:,:,:] = ground1[i]\n",
        "\n",
        "diode_data='/content/drive/MyDrive/CS230 final project/components/diode_as_png'\n",
        "onlyfiles = [ f for f in listdir(diode_data) if isfile(join(diode_data,f)) ]\n",
        "diodes = np.empty(len(onlyfiles), dtype=object)\n",
        "for n in range(0, len(onlyfiles)):\n",
        "  diodes[n] = cv2.imread( join(diode_data,onlyfiles[n]) )\n",
        "\n",
        "diodes = np.array(diodes)\n",
        "diodes = np.invert(diodes)\n",
        "dio = np.zeros((len(diodes),120,120,3))\n",
        "for i in range(len(diodes)):\n",
        "  dio[i,:,:,:] = diodes[i]\n",
        "\n",
        "depvolt_data='/content/drive/MyDrive/CS230 final project/components/dep_volt_as_png'\n",
        "onlyfiles = [ f for f in listdir(depvolt_data) if isfile(join(depvolt_data,f)) ]\n",
        "depvolts = np.empty(len(onlyfiles), dtype=object)\n",
        "for n in range(0, len(onlyfiles)):\n",
        "  depvolts[n] = cv2.imread( join(depvolt_data,onlyfiles[n]) )\n",
        "\n",
        "depvolts = np.array(depvolts)\n",
        "depvolts = np.invert(depvolts)\n",
        "dpv = np.zeros((len(depvolts),120,120,3))\n",
        "for i in range(len(depvolts)):\n",
        "  dpv[i,:,:,:] = depvolts[i]\n",
        "\n",
        "depcurr_data='/content/drive/MyDrive/CS230 final project/components/dep_curr_as_png'\n",
        "onlyfiles = [ f for f in listdir(depcurr_data) if isfile(join(depcurr_data,f)) ]\n",
        "depcurrs = np.empty(len(onlyfiles), dtype=object)\n",
        "for n in range(0, len(onlyfiles)):\n",
        "  depcurrs[n] = cv2.imread( join(depcurr_data,onlyfiles[n]) )\n",
        "\n",
        "depcurrs = np.array(depcurrs)\n",
        "depcurrs = np.invert(depcurrs)\n",
        "dpc = np.zeros((len(depcurrs),120,120,3))\n",
        "for i in range(len(depcurrs)):\n",
        "  dpc[i,:,:,:] = depcurrs[i]\n",
        "\n",
        "dcvolt1_data='/content/drive/MyDrive/CS230 final project/components/dc_voltage_as_png'\n",
        "onlyfiles = [ f for f in listdir(dcvolt1_data) if isfile(join(dcvolt1_data,f)) ]\n",
        "dcvolts1 = np.empty(len(onlyfiles), dtype=object)\n",
        "for n in range(0, len(onlyfiles)):\n",
        "  dcvolts1[n] = cv2.imread( join(dcvolt1_data,onlyfiles[n]) )\n",
        "\n",
        "dcvolts1 = np.array(dcvolts1)\n",
        "dcvolts1 = np.invert(dcvolts1)\n",
        "dcv1 = np.zeros((len(dcvolts1),120,120,3))\n",
        "for i in range(len(dcvolts1)):\n",
        "  dcv1[i,:,:,:] = dcvolts1[i]\n",
        "\n",
        "dcvolt2_data='/content/drive/MyDrive/CS230 final project/components/dc_volt2_as_png'\n",
        "onlyfiles = [ f for f in listdir(dcvolt2_data) if isfile(join(dcvolt2_data,f)) ]\n",
        "dcvolts2 = np.empty(len(onlyfiles), dtype=object)\n",
        "for n in range(0, len(onlyfiles)):\n",
        "  dcvolts2[n] = cv2.imread( join(dcvolt2_data,onlyfiles[n]) )\n",
        "\n",
        "dcvolts2 = np.array(dcvolts2)\n",
        "dcvolts2 = np.invert(dcvolts2)\n",
        "dcv2 = np.zeros((len(dcvolts2),120,120,3))\n",
        "for i in range(len(dcvolts2)):\n",
        "  dcv2[i,:,:,:] = dcvolts2[i]\n",
        "\n",
        "currsc_data='/content/drive/MyDrive/CS230 final project/components/curr_sc_as_png'\n",
        "onlyfiles = [ f for f in listdir(currsc_data) if isfile(join(currsc_data,f)) ]\n",
        "currsc = np.empty(len(onlyfiles), dtype=object)\n",
        "for n in range(0, len(onlyfiles)):\n",
        "  currsc[n] = cv2.imread( join(currsc_data,onlyfiles[n]) )\n",
        "\n",
        "currsc = np.array(currsc)\n",
        "currsc = np.invert(currsc)\n",
        "c_source = np.zeros((len(currsc),120,120,3))\n",
        "for i in range(len(currsc)):\n",
        "  c_source[i,:,:,:] = currsc[i]\n",
        "\n",
        "caps_data='/content/drive/MyDrive/CS230 final project/components/capacitors_as_png'\n",
        "onlyfiles = [ f for f in listdir(caps_data) if isfile(join(caps_data,f)) ]\n",
        "capacitors = np.empty(len(onlyfiles), dtype=object)\n",
        "for n in range(0, len(onlyfiles)):\n",
        "  capacitors[n] = cv2.imread( join(caps_data,onlyfiles[n]) )\n",
        "\n",
        "capacitors = np.array(capacitors)\n",
        "capacitors = np.invert(capacitors)\n",
        "caps = np.zeros((len(capacitors),120,120,3))\n",
        "for i in range(len(capacitors)):\n",
        "  caps[i,:,:,:] = capacitors[i]\n",
        "\n",
        "battery_data='/content/drive/MyDrive/CS230 final project/components/battery_as_png'\n",
        "onlyfiles = [ f for f in listdir(battery_data) if isfile(join(battery_data,f)) ]\n",
        "batterys = np.empty(len(onlyfiles), dtype=object)\n",
        "for n in range(0, len(onlyfiles)):\n",
        "  batterys[n] = cv2.imread( join(battery_data,onlyfiles[n]) )\n",
        "\n",
        "batterys = np.array(batterys)\n",
        "batterys = np.invert(batterys)\n",
        "bats = np.zeros((len(batterys),120,120,3))\n",
        "for i in range(len(batterys)):\n",
        "  bats[i,:,:,:] = batterys[i]\n",
        "\n",
        "ammeter_data='/content/drive/MyDrive/CS230 final project/components/ammeter_as_png'\n",
        "onlyfiles = [ f for f in listdir(ammeter_data) if isfile(join(ammeter_data,f)) ]\n",
        "ammeters = np.empty(len(onlyfiles), dtype=object)\n",
        "for n in range(0, len(onlyfiles)):\n",
        "  ammeters[n] = cv2.imread( join(ammeter_data,onlyfiles[n]) )\n",
        "\n",
        "ammeters = np.array(ammeters)\n",
        "ammeters = np.invert(ammeters)\n",
        "ams = np.zeros((len(ammeters),120,120,3))\n",
        "for i in range(len(ammeters)):\n",
        "  ams[i,:,:,:] = ammeters[i]\n",
        "\n",
        "wires_data='/content/drive/MyDrive/CS230 final project/components/wires_as_png'\n",
        "onlyfiles = [ f for f in listdir(wires_data) if isfile(join(wires_data,f)) ]\n",
        "wires = np.empty(len(onlyfiles), dtype=object)\n",
        "for n in range(0, len(onlyfiles)):\n",
        "  wires[n] = cv2.imread( join(wires_data,onlyfiles[n]) )\n",
        "\n",
        "wires1 = np.array(wires)\n",
        "wires = np.zeros((len(wires1),64,64,3))\n",
        "for i in range(len(wires1)):\n",
        "  wires[i,:,:,:] = wires1[i]"
      ]
    },
    {
      "cell_type": "code",
      "execution_count": 44,
      "metadata": {
        "id": "oHj9HnqkvI0Q"
      },
      "outputs": [],
      "source": [
        "#Create labels - ints from 1 to 15\n",
        "res_labels = np.ones((len(res),1)) #1 - resistors\n",
        "voltm_labels = 2*np.ones((len(voltm),1)) #2 - voltmeters\n",
        "ind_labels = 3*np.ones((len(ind),1)) #3 - inductors\n",
        "gnd2_labels = 4*np.ones((len(gnd2),1)) #4 - ground 2\n",
        "gnd1_labels = 5*np.ones((len(gnd1),1)) #5 - ground 1\n",
        "dio_labels = 6*np.ones((len(dio),1)) #6 - diode\n",
        "dpv_labels = 7*np.ones((len(dpv),1)) #7 - dependent voltage source\n",
        "dpc_labels = 8*np.ones((len(dpc),1)) #8 - dependent current source\n",
        "dcv1_labels = 9*np.ones((len(dcv1),1)) #9 - dc voltage source 1\n",
        "dcv2_labels = 10*np.ones((len(dcv2),1)) #10 - dc voltage source 2\n",
        "c_source_labels = 11*np.ones((len(c_source),1)) #11 - current source\n",
        "caps_labels = 12*np.ones((len(caps),1)) #12 - capacitors\n",
        "bats_labels = 13*np.ones((len(bats),1)) #13 - battery\n",
        "ams_labels = 14*np.ones((len(ams),1)) #14 - ammeter\n",
        "wire_labels = 15*np.ones((len(wires),1)) #15 - wires"
      ]
    },
    {
      "cell_type": "code",
      "execution_count": 45,
      "metadata": {
        "id": "JwqrbbDPvJnU"
      },
      "outputs": [],
      "source": [
        "#Construct dataset with labels\n",
        "xdata = np.concatenate((res,voltm,ind,gnd2,gnd1,dio,dpv,dpc,dcv1,dcv2,c_source,caps,bats,ams))\n",
        "#Shape of x: (2761,120,120,3) - (# of examples, n, n, channels)\n",
        "ydata = np.concatenate((res_labels,voltm_labels,ind_labels,gnd2_labels,gnd1_labels,dio_labels,dpv_labels))\n",
        "ydata = np.concatenate((ydata,dpc_labels,dcv1_labels,dcv2_labels,c_source_labels,caps_labels,bats_labels,ams_labels))\n",
        "#Shape of y: (2761,1)\n",
        "\n",
        "#Note: We add the wire images later because those have already been scaled"
      ]
    },
    {
      "cell_type": "code",
      "execution_count": 46,
      "metadata": {
        "id": "XLbxFugYsILx"
      },
      "outputs": [],
      "source": [
        "#Create two functions to process the data\n",
        "\n",
        "#This function makes the contrast of the lines sharper by eliminating gray pixels\n",
        "def BW(images):\n",
        "  for i in range(images.shape[0]):\n",
        "    for j in range(images.shape[1]):\n",
        "      for k in range(images.shape[2]):\n",
        "        if images[i,j,k] >200:\n",
        "          images[i,j,k] = 255.0\n",
        "        else:\n",
        "          images[i,j,k]=0.0\n",
        "\n",
        "#This function reduces channels from 3 to 1 (grayscale), since we don't need colors\n",
        "def rgb2gray(rgb):\n",
        "  r, g, b = rgb[:,:,:,0], rgb[:,:,:,1], rgb[:,:,:,2]\n",
        "  gray = 0.2989 * r + 0.5870 * g + 0.1140 * b\n",
        "  return gray\n"
      ]
    },
    {
      "cell_type": "code",
      "execution_count": 47,
      "metadata": {
        "id": "VvhSBpzSvcqB"
      },
      "outputs": [],
      "source": [
        "#Normalize data and reduce dimensions from 120x120 to 64x64, using the functions created above\n",
        "#We process the wire images separately because they are already 64x64\n",
        "\n",
        "wires_norm = rgb2gray(wires)\n",
        "xdata_norm = rgb2gray(xdata)\n",
        "xdata = resize(xdata_norm, (len(xdata_norm),64,64))\n",
        "BW(xdata)\n",
        "BW(wires_norm)\n",
        "xdata = xdata/255\n",
        "wires = wires_norm/255"
      ]
    },
    {
      "cell_type": "code",
      "execution_count": null,
      "metadata": {
        "id": "MG8QXHuFvlWH"
      },
      "outputs": [],
      "source": [
        "#Add 200 empty images to the dataset and label them with 0\n",
        "#Each class contains ca. 200 images so this is in proportion\n",
        "#Add the images of the wires as well\n",
        "\n",
        "negative = np.ones((200,64,64))\n",
        "negative[:] = 0.9999\n",
        "\n",
        "xdata = np.concatenate((negative,xdata))\n",
        "xdata = np.concatenate((xdata,wires))\n",
        "ydata = np.concatenate((np.zeros((200,1)),ydata))\n",
        "ydata = np.concatenate((ydata,wire_labels))"
      ]
    },
    {
      "cell_type": "code",
      "execution_count": null,
      "metadata": {
        "id": "ApBOt0OgwGam"
      },
      "outputs": [],
      "source": [
        "#Now we augment the data\n",
        "#Initialize augmented dataset as 4x the size of the original\n",
        "#We rotate each image three times by 90 degrees\n",
        "\n",
        "xaugment = np.zeros((4*xdata.shape[0],xdata.shape[1],xdata.shape[2]))\n",
        "yaugment = np.zeros((4*len(ydata),1))\n",
        "for i in range(0,len(xdata)):\n",
        "  j = 4*i\n",
        "  test = xdata[i]\n",
        "  xaugment[j] = test\n",
        "  yaugment[j] = ydata[i]\n",
        "  ninety = imutils.rotate(test, angle = 90)\n",
        "  xaugment[j+1] = ninety\n",
        "  yaugment[j+1] = ydata[i]\n",
        "  oneeighty = imutils.rotate(ninety, angle=90)\n",
        "  xaugment[j+2] = oneeighty\n",
        "  yaugment[j+2] = ydata[i]\n",
        "  twoseventy = imutils.rotate(oneeighty, angle=90)\n",
        "  xaugment[j+3] = twoseventy\n",
        "  yaugment[j+3] = ydata[i]\n",
        "\n",
        "#Make sure to adjust the labels accordingly\n",
        "for i in range(0,len(ydata)):\n",
        "  j = 4*i\n",
        "  yaugment[j] =  ydata[i]\n",
        "  yaugment[j+1] = ydata[i]\n",
        "  yaugment[j+2] = ydata[i]\n",
        "  yaugment[j+3] = ydata[i]"
      ]
    },
    {
      "cell_type": "code",
      "execution_count": null,
      "metadata": {
        "id": "JP20JmP9wqA3"
      },
      "outputs": [],
      "source": [
        "#We now have 12,656 training examples\n",
        "#Shuffle the data\n",
        "x_all, y_all = shuffle(xaugment,yaugment, random_state=0)\n",
        "\n",
        "#Split into train/dev/test\n",
        "#Approximately 70/15/15\n",
        "xtrain = x_all[0:8860,:,:]\n",
        "ytrain_int = y_all[0:8860,:]\n",
        "xdev = x_all[8861:10757,:,:]\n",
        "ydev_int = y_all[8861:10757,:]\n",
        "xtest = x_all[10758:len(x_all),:,:]\n",
        "ytest_int = y_all[10758:len(y_all),:]\n",
        "\n",
        "#Let's encode the labels\n",
        "#Note that while we have 15 categories of components, we added a class for \"Nothing\" so total number is 16\n",
        "num_category = 16\n",
        "\n",
        "#We convert each class label to a binary class matrix (One-Hot encoding)\n",
        "ytrain = keras.utils.to_categorical(ytrain_int, num_category)\n",
        "ytest = keras.utils.to_categorical(ytest_int, num_category)\n",
        "ydev = keras.utils.to_categorical(ydev_int, num_category)\n",
        "\n",
        "#Define a dictionary for the labels.\n",
        "dictionary = [\"Nothing\",\"Resistor\", \"Voltmeter\", \"Inductor\", \"Ground2\", \"Ground1\", \"Diode\", \"Dependent voltage source\", \"Dependent current source\", \"DC voltage source1\", \"DC voltage source2\", \"Current source\", \"Capacitor\",\"Battery\", \"Ammeter\",\"Wire\"]"
      ]
    },
    {
      "cell_type": "code",
      "execution_count": 48,
      "metadata": {
        "id": "NbySDUYQw96l"
      },
      "outputs": [],
      "source": [
        "#Now we create the model. This is a modified version of a network by Sambit Mahapatra (A simple 2D CNN for MNIST digit recognition)\n",
        "\n",
        "model = models.Sequential()\n",
        "model.add(layers.Conv2D(32, (3, 3), padding ='same', activation='relu', input_shape=(64, 64, 1)))\n",
        "model.add(layers.Dropout(0.2))\n",
        "model.add(layers.MaxPooling2D((2, 2)))\n",
        "model.add(layers.Conv2D(64, (3, 3), padding ='same', activation='relu'))\n",
        "model.add(layers.Dropout(0.3))\n",
        "model.add(layers.MaxPooling2D((2, 2)))\n",
        "model.add(layers.Conv2D(64, (3, 3), padding ='same', activation='relu'))\n",
        "model.add(layers.Dropout(0.4))\n",
        "model.add(layers.MaxPooling2D((2, 2)))\n",
        "model.add(layers.Conv2D(128, (3, 3),padding ='same', activation='relu'))\n",
        "model.add(layers.Dropout(0.3))\n",
        "model.add(layers.Flatten())\n",
        "model.add(layers.Dense(128, activation='relu'))\n",
        "model.add(layers.Dropout(0.3))\n",
        "model.add(layers.Dense(64, activation='relu'))\n",
        "model.add(layers.Dense(16, activation = 'softmax'))"
      ]
    },
    {
      "cell_type": "code",
      "execution_count": 49,
      "metadata": {
        "id": "qlE1aMLyxFpq"
      },
      "outputs": [],
      "source": [
        "#Compile the model: We use Adam optimizer and a categorical cross-entropy loss since we are outputting classification\n",
        "model.compile(optimizer='adam',\n",
        "              loss=tf.keras.losses.SparseCategoricalCrossentropy(),\n",
        "              metrics=['accuracy'])"
      ]
    },
    {
      "cell_type": "code",
      "execution_count": null,
      "metadata": {
        "id": "RlEHLFPCxJyj",
        "colab": {
          "base_uri": "https://localhost:8080/"
        },
        "outputId": "2a8d9dcf-4c14-474e-a119-ae467b01cf89"
      },
      "outputs": [
        {
          "output_type": "stream",
          "name": "stdout",
          "text": [
            "Epoch 1/50\n",
            "213/277 [======================>.......] - ETA: 21s - loss: 2.2782 - accuracy: 0.2324"
          ]
        }
      ],
      "source": [
        "#Train the model. Note this can take some time, and validation accuracy will plateu at approx. 94% after 40-50 epochs\n",
        "\n",
        "history = model.fit(xtrain, ytrain_int, epochs=50, batch_size = 32, validation_data=[xdev,ydev_int])"
      ]
    },
    {
      "cell_type": "code",
      "source": [
        "#A summary of the model:\n",
        "model.summary()"
      ],
      "metadata": {
        "colab": {
          "base_uri": "https://localhost:8080/"
        },
        "id": "bTqpM7eIYIBM",
        "outputId": "cfa5ab0c-8967-44ba-a682-ccc59497fdd3"
      },
      "execution_count": null,
      "outputs": [
        {
          "output_type": "stream",
          "name": "stdout",
          "text": [
            "Model: \"sequential\"\n",
            "_________________________________________________________________\n",
            " Layer (type)                Output Shape              Param #   \n",
            "=================================================================\n",
            " conv2d (Conv2D)             (None, 64, 64, 32)        320       \n",
            "                                                                 \n",
            " dropout (Dropout)           (None, 64, 64, 32)        0         \n",
            "                                                                 \n",
            " max_pooling2d (MaxPooling2D  (None, 32, 32, 32)       0         \n",
            " )                                                               \n",
            "                                                                 \n",
            " conv2d_1 (Conv2D)           (None, 32, 32, 64)        18496     \n",
            "                                                                 \n",
            " dropout_1 (Dropout)         (None, 32, 32, 64)        0         \n",
            "                                                                 \n",
            " max_pooling2d_1 (MaxPooling  (None, 16, 16, 64)       0         \n",
            " 2D)                                                             \n",
            "                                                                 \n",
            " conv2d_2 (Conv2D)           (None, 16, 16, 64)        36928     \n",
            "                                                                 \n",
            " dropout_2 (Dropout)         (None, 16, 16, 64)        0         \n",
            "                                                                 \n",
            " max_pooling2d_2 (MaxPooling  (None, 8, 8, 64)         0         \n",
            " 2D)                                                             \n",
            "                                                                 \n",
            " conv2d_3 (Conv2D)           (None, 8, 8, 128)         73856     \n",
            "                                                                 \n",
            " dropout_3 (Dropout)         (None, 8, 8, 128)         0         \n",
            "                                                                 \n",
            " flatten (Flatten)           (None, 8192)              0         \n",
            "                                                                 \n",
            " dense (Dense)               (None, 128)               1048704   \n",
            "                                                                 \n",
            " dropout_4 (Dropout)         (None, 128)               0         \n",
            "                                                                 \n",
            " dense_1 (Dense)             (None, 64)                8256      \n",
            "                                                                 \n",
            " dense_2 (Dense)             (None, 16)                1040      \n",
            "                                                                 \n",
            "=================================================================\n",
            "Total params: 1,187,600\n",
            "Trainable params: 1,187,600\n",
            "Non-trainable params: 0\n",
            "_________________________________________________________________\n"
          ]
        }
      ]
    },
    {
      "cell_type": "code",
      "execution_count": null,
      "metadata": {
        "colab": {
          "base_uri": "https://localhost:8080/",
          "height": 235
        },
        "id": "MEtWhRdRxOBY",
        "outputId": "18f01664-13c7-45c1-80ed-091d169acde4"
      },
      "outputs": [
        {
          "output_type": "error",
          "ename": "NameError",
          "evalue": "ignored",
          "traceback": [
            "\u001b[0;31m---------------------------------------------------------------------------\u001b[0m",
            "\u001b[0;31mNameError\u001b[0m                                 Traceback (most recent call last)",
            "\u001b[0;32m<ipython-input-1-7c9d994183bb>\u001b[0m in \u001b[0;36m<module>\u001b[0;34m\u001b[0m\n\u001b[1;32m      1\u001b[0m \u001b[0;31m#Let's take a look at the learning curves.\u001b[0m\u001b[0;34m\u001b[0m\u001b[0;34m\u001b[0m\u001b[0;34m\u001b[0m\u001b[0m\n\u001b[1;32m      2\u001b[0m \u001b[0;31m#Accuracy:\u001b[0m\u001b[0;34m\u001b[0m\u001b[0;34m\u001b[0m\u001b[0;34m\u001b[0m\u001b[0m\n\u001b[0;32m----> 3\u001b[0;31m \u001b[0mplt\u001b[0m\u001b[0;34m.\u001b[0m\u001b[0mplot\u001b[0m\u001b[0;34m(\u001b[0m\u001b[0mhistory\u001b[0m\u001b[0;34m.\u001b[0m\u001b[0mhistory\u001b[0m\u001b[0;34m[\u001b[0m\u001b[0;34m'accuracy'\u001b[0m\u001b[0;34m]\u001b[0m\u001b[0;34m,\u001b[0m \u001b[0mlabel\u001b[0m\u001b[0;34m=\u001b[0m\u001b[0;34m'train'\u001b[0m\u001b[0;34m)\u001b[0m\u001b[0;34m\u001b[0m\u001b[0;34m\u001b[0m\u001b[0m\n\u001b[0m\u001b[1;32m      4\u001b[0m \u001b[0mplt\u001b[0m\u001b[0;34m.\u001b[0m\u001b[0mplot\u001b[0m\u001b[0;34m(\u001b[0m\u001b[0mhistory\u001b[0m\u001b[0;34m.\u001b[0m\u001b[0mhistory\u001b[0m\u001b[0;34m[\u001b[0m\u001b[0;34m'val_accuracy'\u001b[0m\u001b[0;34m]\u001b[0m\u001b[0;34m,\u001b[0m \u001b[0mlabel\u001b[0m\u001b[0;34m=\u001b[0m\u001b[0;34m'validation'\u001b[0m\u001b[0;34m)\u001b[0m\u001b[0;34m\u001b[0m\u001b[0;34m\u001b[0m\u001b[0m\n\u001b[1;32m      5\u001b[0m \u001b[0mplt\u001b[0m\u001b[0;34m.\u001b[0m\u001b[0mlegend\u001b[0m\u001b[0;34m(\u001b[0m\u001b[0;34m)\u001b[0m\u001b[0;34m\u001b[0m\u001b[0;34m\u001b[0m\u001b[0m\n",
            "\u001b[0;31mNameError\u001b[0m: name 'plt' is not defined"
          ]
        }
      ],
      "source": [
        "#Let's take a look at the learning curves.\n",
        "#Accuracy:\n",
        "plt.plot(history.history['accuracy'], label='train')\n",
        "plt.plot(history.history['val_accuracy'], label='validation')\n",
        "plt.legend()\n",
        "plt.show()"
      ]
    },
    {
      "cell_type": "code",
      "execution_count": null,
      "metadata": {
        "colab": {
          "base_uri": "https://localhost:8080/",
          "height": 265
        },
        "id": "MNThHyjr0eBP",
        "outputId": "63c479a6-c9b7-47dd-cf51-9b272ae26649"
      },
      "outputs": [
        {
          "output_type": "display_data",
          "data": {
            "text/plain": [
              "<Figure size 432x288 with 1 Axes>"
            ],
            "image/png": "[encoded data removed]"
          },
          "metadata": {
            "needs_background": "light"
          }
        }
      ],
      "source": [
        "#Loss:\n",
        "plt.plot(history.history['loss'], label='train')\n",
        "plt.plot(history.history['val_loss'], label='validation')\n",
        "plt.legend()\n",
        "plt.show()"
      ]
    },
    {
      "cell_type": "code",
      "execution_count": null,
      "metadata": {
        "colab": {
          "base_uri": "https://localhost:8080/"
        },
        "id": "v5szRh380gtN",
        "outputId": "0e374c26-76e9-4b6a-f205-9ee36a4cedbc"
      },
      "outputs": [
        {
          "output_type": "stream",
          "name": "stdout",
          "text": [
            "60/60 [==============================] - 3s 45ms/step - loss: 0.1424 - accuracy: 0.9457\n"
          ]
        }
      ],
      "source": [
        "#Evaluate the testing accuracy\n",
        "\n",
        "mse_test = model.evaluate(xtest, ytest)"
      ]
    },
    {
      "cell_type": "code",
      "execution_count": null,
      "metadata": {
        "colab": {
          "base_uri": "https://localhost:8080/"
        },
        "id": "LEo9y6ZZ6rKu",
        "outputId": "418a2bdf-cf1b-4532-c352-2bd5357c54a5"
      },
      "outputs": [
        {
          "output_type": "stream",
          "name": "stdout",
          "text": [
            "60/60 [==============================] - 4s 74ms/step\n"
          ]
        }
      ],
      "source": [
        "#Error analysis:\n",
        "#This helps us identify and analyze common mistakes made by the model\n",
        "dictionary = [\"Nothing\",\"Resistor\", \"Voltmeter\", \"Inductor\", \"Ground2\", \"Ground1\", \"Diode\", \"Dependent voltage source\", \"Dependent current source\", \"DC voltage source1\", \"DC voltage source2\", \"Current source\", \"Capacitor\",\"Battery\", \"Ammeter\",\"Wire\"]\n",
        "predictions = model.predict(xtest)\n",
        "\n",
        "preds = np.argmax(predictions, axis = -1)\n",
        "correct = np.argmax(ytest, axis = -1)\n",
        "\n",
        "wrong_indices = []\n",
        "for i in range(len(preds)):\n",
        "  if preds[i] != correct[i]:\n",
        "    wrong_indices.append(i)\n",
        "\n",
        "wrong_indices = np.array(wrong_indices)"
      ]
    },
    {
      "cell_type": "code",
      "execution_count": null,
      "metadata": {
        "id": "Z1J6QykWas1I"
      },
      "outputs": [],
      "source": [
        "#Let's look at mislabeled images.\n",
        "\n",
        "for i in range(len(wrong_indices)):\n",
        "    plt.imshow(xtest[wrong_indices[i]], cmap='gray')\n",
        "    plt.show()\n",
        "    print('Predicted:',dictionary[preds[wrong_indices[i]]])\n",
        "    print('Correct:',dictionary[correct[wrong_indices[i]]])\n",
        "    print(wrong_indices[i])"
      ]
    },
    {
      "cell_type": "code",
      "source": [
        "from sklearn.metrics import classification_report, confusion_matrix\n",
        "\n",
        "confusion_matrix(ytest_int, preds)"
      ],
      "metadata": {
        "id": "tHombhupb0AB"
      },
      "execution_count": null,
      "outputs": []
    },
    {
      "cell_type": "code",
      "source": [
        "#Function to compute confusion matrix\n",
        "import numpy as np\n",
        "import pandas as pd\n",
        "import matplotlib.pyplot as plt\n",
        "import seaborn as sns\n",
        "from sklearn.metrics import confusion_matrix\n",
        "\n",
        "def cm_analysis(y_true, y_pred, dictionary, labels, ymap=None, figsize=(10,10)):\n",
        "    if ymap is not None:\n",
        "        y_pred = [ymap[yi] for yi in y_pred]\n",
        "        y_true = [ymap[yi] for yi in y_true]\n",
        "        labels = [ymap[yi] for yi in labels]\n",
        "    cm = confusion_matrix(y_true, y_pred, labels=labels)\n",
        "    cm_sum = np.sum(cm, axis=1, keepdims=True)\n",
        "    cm_perc = cm / cm_sum.astype(float) * 100\n",
        "    annot = np.empty_like(cm).astype(str)\n",
        "    nrows, ncols = cm.shape\n",
        "    for i in range(nrows):\n",
        "        for j in range(ncols):\n",
        "            c = cm[i, j]\n",
        "            p = cm_perc[i, j]\n",
        "            if i == j:\n",
        "                s = cm_sum[i]\n",
        "                annot[i, j] = '%.1f%%\\n%d/%d' % (p, c, s)\n",
        "            elif c == 0:\n",
        "                annot[i, j] = ''\n",
        "            else:\n",
        "                annot[i, j] = '%.1f%%\\n%d' % (p, c)\n",
        "    cm = pd.DataFrame(cm, index=dictionary, columns=dictionary)\n",
        "    cm.index.name = 'Actual'\n",
        "    cm.columns.name = 'Predicted'\n",
        "    fig, ax = plt.subplots(figsize=figsize)\n",
        "    sns.heatmap(cm, annot=annot, fmt='', ax=ax)\n",
        "    plt.show()"
      ],
      "metadata": {
        "id": "WhcEUWmftlog"
      },
      "execution_count": null,
      "outputs": []
    },
    {
      "cell_type": "code",
      "source": [
        "#Let's look at the confusion matrix\n",
        "predictions = model.predict(xtest)\n",
        "cm_analysis(ytest_int.reshape(len(ytest_int),).astype('int'), np.argmax(predictions,axis = 1).reshape(len(predictions),),dictionary, labels = [0,1,2,3,4,5,6,7,8,9,10,11,12,13,14,15], figsize = (16,11))"
      ],
      "metadata": {
        "id": "hvZQISs6t9LY"
      },
      "execution_count": null,
      "outputs": []
    },
    {
      "cell_type": "markdown",
      "metadata": {
        "id": "-CWQ9l0mbCad"
      },
      "source": [
        "**Component detection using Sliding Windows**"
      ]
    },
    {
      "cell_type": "markdown",
      "source": [
        "Now we want to identify components in a circuit, using the model we have trained. We will use the Sliding Window method, predicting the content of each window in the image, but first we need to define a few functions that we will call on in the Sliding Windows function."
      ],
      "metadata": {
        "id": "24QtyMbgYhEf"
      }
    },
    {
      "cell_type": "code",
      "execution_count": null,
      "metadata": {
        "id": "8hautY9f6bs0"
      },
      "outputs": [],
      "source": [
        "#We define a function that calculates the Intersection-over-union coefficient of two boxes. \n",
        "#We use this function to perform non-max suppression\n",
        "\n",
        "def iou(box1,box2):\n",
        "  #Get the coordinates of the two boxes\n",
        "  box1_x1,box1_y1,box1_x2,box1_y2 = box1[0],box1[1],box1[2],box1[3]\n",
        "  box2_x1,box2_y1,box2_x2,box2_y2 = box2[0],box2[1],box2[2],box2[3]\n",
        "\n",
        "  #Calculate the intersection area\n",
        "  xi1 = max(box1_x1,box2_x1)\n",
        "  yi1 = max(box1_y1,box2_y1)\n",
        "  xi2 = min(box1_x2,box2_x2)\n",
        "  yi2 = min(box1_y2,box2_y2)\n",
        "  inter_width = xi2-xi1\n",
        "  inter_height = yi2-yi1\n",
        "  inter_area = max(inter_width,0)*max(inter_height,0)\n",
        "\n",
        "  #Calculate the union area\n",
        "  box1_area = (box1_x2-box1_x1)*(box1_y2-box1_y1)\n",
        "  box2_area = (box2_x2-box2_x1)*(box2_y2-box2_y1)\n",
        "  union_area = box1_area + box2_area - inter_area\n",
        "\n",
        "  #The IOU is the ratio:\n",
        "  iou = inter_area/union_area\n",
        "  return iou"
      ]
    },
    {
      "cell_type": "code",
      "execution_count": null,
      "metadata": {
        "id": "Qft9NTyL62Xx"
      },
      "outputs": [],
      "source": [
        "#This function performs non-max suppression. In the case of overlapping boxes, we want to choose the one with the highest probability.\n",
        "\n",
        "def non_max_suppression(boxes,classes,iou_threshold):\n",
        "  #Get the coordinates of each box in the image\n",
        "  #We define the score of each box as the highest probability  \n",
        "  x1 = np.zeros((len(boxes),1))\n",
        "  x2 = np.zeros((len(boxes),1))\n",
        "  y1 = np.zeros((len(boxes),1))\n",
        "  y2 = np.zeros((len(boxes),1))\n",
        "  score = np.zeros((len(boxes),1))\n",
        "  for i in range(len(boxes)):\n",
        "    x1[i],y1[i],x2[i],y2[i] = boxes[i][0],boxes[i][1],boxes[i][2],boxes[i][3]\n",
        "    score[i] = np.max(classes[i])\n",
        "  \n",
        "  #Sort the boxes by probabilty, so the box with the highest score is at the top of the list.\n",
        "  #To sort the boxes along with their scores and classes, we concatenate everything in an array and convert to a list.\n",
        "  stuff = np.concatenate((boxes,classes,score),axis=1)\n",
        "  stuff_list = stuff.tolist()\n",
        "  max_score_first = sorted(stuff_list, key = lambda x: x[-1], reverse = True)\n",
        "  max_score_first = np.array(max_score_first)\n",
        "\n",
        "  #Now we can pick out the boxes and corresponding values from the sorted list.\n",
        "  boxes = max_score_first[:,0:4]\n",
        "  classes = max_score_first[:,4:21]\n",
        "  scores = max_score_first[:,-1]\n",
        "\n",
        "  #Initialize the indexes of the boxes that can be removed\n",
        "  indexes_to_delete = []\n",
        "\n",
        "  #We go down the list of boxes, beginning with the box with the highest score, and calculate the IOU with all the boxes below it in the list\n",
        "  for i in range(len(boxes)-1):\n",
        "    for k in range(i+1,len(boxes)):\n",
        "      overlap = iou(boxes[i],boxes[k])\n",
        "      if (overlap > iou_threshold):\n",
        "        indexes_to_delete.append(k)\n",
        "        break\n",
        "  \n",
        "  #Now we know which boxes can be removed, and we want to retain the correct classes so we concatente boxes and classes, then delete.\n",
        "  stuff = np.concatenate((boxes,classes),axis=1)\n",
        "  stuff = np.delete(stuff,indexes_to_delete,axis=0)\n",
        "\n",
        "  #Pick out the boxes and corresponding classes \n",
        "  boxes = stuff[:,0:4]\n",
        "  classes = stuff[:,4:]\n",
        "  return boxes.astype(\"int\"), classes"
      ]
    },
    {
      "cell_type": "code",
      "source": [
        "#This function makes it easier to print the images along with bounding boxes and classes\n",
        "\n",
        "def drawBoxes(image,boxes,classes):\n",
        "  fig, ax = plt.subplots()\n",
        "  for i in range(len(boxes)):\n",
        "    rect = patches.Rectangle((boxes[i,0], boxes[i,1]), boxes[i,2]-boxes[i,0], boxes[i,3]-boxes[i,1], linewidth=1, edgecolor='r', facecolor='none')\n",
        "    ax.add_patch(rect)\n",
        "    ax.text(boxes[i,0],boxes[i,1],dictionary[np.argmax(classes[i])], fontsize = 8, color='r')\n",
        "  ax.imshow(image,cmap = 'gray')\n",
        "  plt.show()"
      ],
      "metadata": {
        "id": "vNrfQvD0YvL9"
      },
      "execution_count": null,
      "outputs": []
    },
    {
      "cell_type": "code",
      "source": [
        "#Now we can define the function that detects components in a circuit using a sliding window approach.\n",
        "\n",
        "def sliding_window(image, parallel):\n",
        "  #Initialize the lists to which we will add the appropriate boxes and corresponding classes\n",
        "\tboxes = []\n",
        "\tclasses = []\n",
        "\tcomponents = []\n",
        "\n",
        "  #We try out three different sets of window and step sizes\n",
        "\twindows = [100, 120, 140]\n",
        "\tsteps = [30, 40, 50]\n",
        "\n",
        "\tfor i in range(3):\n",
        "\t\tstepSize = steps[i]\n",
        "\t\twindowSize = windows[i]\n",
        "\t\tfor y in range(0, image.shape[0], stepSize):\n",
        "\t\t\tfor x in range(0, image.shape[1], stepSize):\n",
        "\t\t\t\tif y + windowSize < image.shape[0]:\n",
        "\t\t\t\t\tif x + windowSize < image.shape[1]:\n",
        "\n",
        "\t\t\t\t\t  #Create the window\n",
        "\t\t\t\t\t\tsample = resize(image[y:y + windowSize, x:x + windowSize], (64,64)).reshape(1,64,64)\n",
        "\t\t \t\t\t\n",
        "\t\t\t\t\t  #Predict its contents\n",
        "\t\t\t\t\t\tprediction = model.predict(sample/255, verbose = 0)\n",
        "\t\t \n",
        "\t\t \t\t\t  #We select the class with the highest probability\n",
        "\t\t\t\t\t\tfound = dictionary[np.argmax(prediction)]\n",
        "\n",
        "\t\t\t\t\t\tif (found != \"Nothing\") and (found != \"Wire\") and (np.max(prediction) > 0.6) and (parallel == False or dictionary[np.argmax(prediction)] != \"Capacitor\" or (x < 600 and x>400)):\n",
        "\t\t\t\t\t\t\tboxes.append([x,y,x+windowSize,y+windowSize]) #(x1,y1,x2,y2)\n",
        "\t\t\t\t\t\t\tclasses.append(prediction)\n",
        "\t\t\t\n",
        "\tboxes = np.array(boxes) \n",
        "\tclasses = np.array(classes).reshape(len(classes), len(dictionary))\n",
        "\treturn boxes, classes"
      ],
      "metadata": {
        "id": "YBCACbPWYezL"
      },
      "execution_count": null,
      "outputs": []
    },
    {
      "cell_type": "code",
      "execution_count": null,
      "metadata": {
        "id": "35tBbLRIolCw"
      },
      "outputs": [],
      "source": [
        "#We test our method on a dataset of circuit images. We begin by uploading the images.\n",
        "\n",
        "circuits_test='/content/drive/MyDrive/Colab Notebooks/CS 230/circuits_test_ultimate'\n",
        "onlyfiles = [ f for f in listdir(circuits_test) if isfile(join(circuits_test,f)) ]\n",
        "circuits = np.empty(len(onlyfiles), dtype=object)\n",
        "for n in range(0, len(onlyfiles)):\n",
        "  circuits[n] = cv2.imread( join(circuits_test,onlyfiles[n]) )\n",
        "circuits_raw = np.array(circuits)"
      ]
    },
    {
      "cell_type": "code",
      "execution_count": null,
      "metadata": {
        "id": "GFCDHBMctR-o"
      },
      "outputs": [],
      "source": [
        "#We need to define a new function for the circuit images, since they are of different sizes.\n",
        "\n",
        "def rgb2gray_3d(rgb):\n",
        "  r, g, b = rgb[:,:,0], rgb[:,:,1], rgb[:,:,2]\n",
        "  gray = 0.2989 * r + 0.5870 * g + 0.1140 * b\n",
        "  return gray"
      ]
    },
    {
      "cell_type": "code",
      "execution_count": null,
      "metadata": {
        "id": "1XgEOTnGIRI6"
      },
      "outputs": [],
      "source": [
        "#We want the images to have one channel, so let's apply the function defined above.\n",
        "#We also want to standardize the images so we can estimate appropriate window sizes.\n",
        "#After using the resize function we apply the BW filter to increase the contrast.\n",
        "\n",
        "def standardize(circuits_raw):\n",
        "  circuits = np.zeros((len(circuits_raw),1000,1000))\n",
        "  for i in range(len(circuits_raw)):\n",
        "    circuits_raw[i] = rgb2gray_3d(circuits_raw[i])\n",
        "    circuits_raw[i] = resize(circuits_raw[i],(1000,1000),mode = 'constant')\n",
        "    circuits_raw[i].reshape(1,1000,1000)\n",
        "    circuits[i] = circuits_raw[i]\n",
        "  BW(circuits)\n",
        "  return circuits"
      ]
    },
    {
      "cell_type": "code",
      "source": [
        "#Let's apply the function above to our dataset so we can evaluate the sliding windows method.\n",
        "\n",
        "circuits = standardize(circuits_raw)"
      ],
      "metadata": {
        "id": "by8ICdXeJa_4"
      },
      "execution_count": null,
      "outputs": []
    },
    {
      "cell_type": "code",
      "execution_count": null,
      "metadata": {
        "colab": {
          "base_uri": "https://localhost:8080/",
          "height": 286
        },
        "id": "2Pr4b7_JqNbH",
        "outputId": "bd4aba4d-0753-4bd0-8583-fac3c16a06d5"
      },
      "outputs": [
        {
          "output_type": "execute_result",
          "data": {
            "text/plain": [
              "<matplotlib.image.AxesImage at 0x7fdcd83ba760>"
            ]
          },
          "metadata": {},
          "execution_count": 166
        },
        {
          "output_type": "display_data",
          "data": {
            "text/plain": [
              "<Figure size 432x288 with 1 Axes>"
            ],
            "image/png": "[encoded data removed]"
          },
          "metadata": {
            "needs_background": "light"
          }
        }
      ],
      "source": [
        "#This method was designed to evaluate one image at a time, so let's look at one image from the dataset.\n",
        "\n",
        "testphoto = circuits[24]\n",
        "plt.imshow(testphoto,cmap=\"gray\")"
      ]
    },
    {
      "cell_type": "code",
      "execution_count": null,
      "metadata": {
        "id": "FhGLTPPCqsGT",
        "colab": {
          "base_uri": "https://localhost:8080/",
          "height": 269
        },
        "outputId": "267a07d0-3621-4d32-f918-4e75d9dad1e3"
      },
      "outputs": [
        {
          "output_type": "display_data",
          "data": {
            "text/plain": [
              "<Figure size 432x288 with 1 Axes>"
            ],
            "image/png": "[encoded data removed]"
          },
          "metadata": {
            "needs_background": "light"
          }
        }
      ],
      "source": [
        "#Let's see what our algorithm finds:\n",
        "\n",
        "boxes, classes = sliding_window(testphoto,False)\n",
        "drawBoxes(testphoto,boxes,classes)"
      ]
    },
    {
      "cell_type": "code",
      "execution_count": null,
      "metadata": {
        "id": "bP3Geu_Os0uf",
        "colab": {
          "base_uri": "https://localhost:8080/",
          "height": 269
        },
        "outputId": "476390f4-bba8-4f70-f56d-989f0b007ee7"
      },
      "outputs": [
        {
          "output_type": "display_data",
          "data": {
            "text/plain": [
              "<Figure size 432x288 with 1 Axes>"
            ],
            "image/png": "[encoded data removed]"
          },
          "metadata": {
            "needs_background": "light"
          }
        }
      ],
      "source": [
        "#To clear overlapping boxes we apply non-max suppression:\n",
        "\n",
        "boxes_new, classes_new = non_max_suppression(boxes,classes,0)\n",
        "drawBoxes(testphoto,boxes_new,classes_new)"
      ]
    },
    {
      "cell_type": "code",
      "source": [
        "boxes_new, classes_new = non_max_suppression(boxes_new,classes_new,0)\n",
        "drawBoxes(testphoto,boxes_new,classes_new)"
      ],
      "metadata": {
        "colab": {
          "base_uri": "https://localhost:8080/",
          "height": 269
        },
        "id": "PFR2vY4rbM06",
        "outputId": "46f2ae6a-3a1e-44ff-988b-ea8423fca1cb"
      },
      "execution_count": null,
      "outputs": [
        {
          "output_type": "display_data",
          "data": {
            "text/plain": [
              "<Figure size 432x288 with 1 Axes>"
            ],
            "image/png": "[encoded data removed]"
          },
          "metadata": {
            "needs_background": "light"
          }
        }
      ]
    },
    {
      "cell_type": "code",
      "source": [
        "#Results\n",
        "#circuits[13] þarf að minnka dc source\n",
        "indexes = np.array([0,1,2,3,4,5,6,7,8,9,10,11,12,13,14,15,16,17,18,19,20,24,25])\n",
        "predicted_boxes = np.array([6,5,5,6,5,4,4,3,4,4,4,3,3,4,4,2,4,3,4,5,5,5,5])\n",
        "correct_boxes = np.array([5,4,5,5,5,3,3,2,4,3,4,1,1,3,3,1,2,2,3,4,5,5,4])\n",
        "resistors_total = 23\n",
        "correct_resistors = 23\n",
        "inductors_total = 15\n",
        "inductors_correct = 13\n",
        "DC_volt_total = 14\n",
        "DC_volt_correct = 10\n",
        "diode_total = 7\n",
        "diode_correct = 5\n",
        "capacitors_total = 13\n",
        "capacitors_correct = 11\n",
        "dep_current_total = 4\n",
        "dep_current_correct = 1\n",
        "dep_volt_total = 2\n",
        "dep_volt_correct = 0\n",
        "ground_total = 7\n",
        "ground_correct = 7\n",
        "curr_source_total = 4\n",
        "curr_source_correct = 2\n",
        "missed_components = 4\n"
      ],
      "metadata": {
        "id": "BTOmrDwC7Rzg"
      },
      "execution_count": null,
      "outputs": []
    },
    {
      "cell_type": "code",
      "source": [
        "sum(correct_boxes)/sum(predicted_boxes)"
      ],
      "metadata": {
        "colab": {
          "base_uri": "https://localhost:8080/"
        },
        "id": "8oQhX1xCK5GH",
        "outputId": "9d70e4e6-cb32-45f3-9bea-0d8ac351f915"
      },
      "execution_count": null,
      "outputs": [
        {
          "output_type": "execute_result",
          "data": {
            "text/plain": [
              "0.7938144329896907"
            ]
          },
          "metadata": {},
          "execution_count": 155
        }
      ]
    },
    {
      "cell_type": "markdown",
      "source": [
        "Voila! We can now detect components in a circuit. "
      ],
      "metadata": {
        "id": "97yvXedNPNjq"
      }
    },
    {
      "cell_type": "markdown",
      "source": [
        "**Simulating parallel circuits in HSPICE**"
      ],
      "metadata": {
        "id": "K3jY9UVfPUq0"
      }
    },
    {
      "cell_type": "markdown",
      "source": [
        "If we place certain criteria on the circuits, we can use this method to detect the components of a parallel circuit and output code that we can export directly into HSPICE to simulate the circuit."
      ],
      "metadata": {
        "id": "Mh8KvmrwPbDQ"
      }
    },
    {
      "cell_type": "code",
      "source": [
        "#Sort boxes from left to right in order for component values to be assigned to the correct components.\n",
        "\n",
        "def sortLtoR(boxes, classes):\n",
        "  y1 = boxes[:,1]\n",
        "  idxs = np.argsort(y1)\n",
        "  boxes_new = boxes[idxs]\n",
        "  classes_new = classes[idxs]\n",
        "  return boxes_new, classes_new"
      ],
      "metadata": {
        "id": "DZ1WI6EdO7QW"
      },
      "execution_count": null,
      "outputs": []
    },
    {
      "cell_type": "code",
      "source": [
        "#Assume only RCL circuits\n",
        "#Assume classes and values correspond to the components from left to right.\n",
        "def HSPICE(dictionary, CLASSES,  values):\n",
        "  Rcounter = 1\n",
        "  Ccounter = 1\n",
        "  Lcounter = 1\n",
        "  Vcounter = 1\n",
        "  Icounter = 1\n",
        "  code = \"\\n\" #First line has to be blank\n",
        "  for i in range(len(CLASSES)):\n",
        "    componentType = dictionary[np.argmax(CLASSES[i])]\n",
        "    if(componentType == \"Resistor\"):\n",
        "      code += \"R\"+str(Rcounter)+\" HIGH GND \"+str(values[i])+\"\\n\"\n",
        "      Rcounter += 1\n",
        "    elif(componentType == \"Inductor\"):\n",
        "      code += \"L\"+str(Lcounter)+\" HIGH GND \"+str(values[i])+\"\\n\"\n",
        "      Lcounter += 1\n",
        "    elif(componentType == \"Capacitor\"):\n",
        "      code += \"C\"+str(Ccounter)+\" HIGH GND \"+str(values[i])+\"\\n\"\n",
        "      Ccounter += 1\n",
        "    elif(componentType == \"DC voltage source1\" or componentType == \"DC voltage source2\" or componentType == \"Battery\"):\n",
        "      code += \"V\"+str(Vcounter)+\" HIGH GND \"+\"ac \"+str(values[i])+\"\\n\" #Assume Always AC source\n",
        "      Vcounter += 1\n",
        "    elif(componentType == \"Current source\"):\n",
        "      code += \"I\"+str(Vcounter)+\" HIGH GND \"+\"ac \"+str(values[i])+\"\\n\" #Assume Always AC source\n",
        "      Icounter += 1\n",
        "    else:\n",
        "      return \"Error!!! invalid component\"\n",
        "  code += \".option post brief nomod \\n\" #To \n",
        "  code += \".ac dec 100 1K 10G \\n\" #default AC sweep\n",
        "  code += \".end\"\n",
        "  return code"
      ],
      "metadata": {
        "id": "jKj3DoILS0-p"
      },
      "execution_count": null,
      "outputs": []
    }
  ],
  "metadata": {
    "colab": {
      "provenance": []
    },
    "kernelspec": {
      "display_name": "Python 3",
      "name": "python3"
    },
    "language_info": {
      "name": "python"
    }
  },
  "nbformat": 4,
  "nbformat_minor": 0
}